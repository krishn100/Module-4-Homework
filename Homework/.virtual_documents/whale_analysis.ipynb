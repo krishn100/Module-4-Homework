


# Initial imports
import pandas as pd
import numpy as np
import datetime as dt
from pathlib import Path

%matplotlib inline








# Reading whale returns



# Count nulls



# Drop nulls






# Reading algorithmic returns



# Count nulls



# Drop nulls






# Reading S&P 500 Closing Prices



# Check Data Types



# Fix Data Types



# Calculate Daily Returns



# Drop nulls



# Rename `Close` Column to be specific to this portfolio.






# Join Whale Returns, Algorithmic Returns, and the S&P 500 Returns into a single DataFrame with columns for each portfolio's returns.












# Plot daily returns of all portfolios






# Calculate cumulative returns of all portfolios

# Plot cumulative returns












# Box plot to visually show risk






# Calculate the daily standard deviations of all portfolios






# Calculate  the daily standard deviation of S&P 500

# Determine which portfolios are riskier than the S&P 500






# Calculate the annualized standard deviation (252 trading days)












# Calculate the rolling standard deviation for all portfolios using a 21-day window

# Plot the rolling standard deviation






# Calculate the correlation

# Display de correlation matrix






# Calculate covariance of a single portfolio

# Calculate variance of S&P 500

# Computing beta

# Plot beta trend






# Use `ewm` to calculate the rolling window









# Annualized Sharpe Ratios



# Visualize the sharpe ratios as a bar plot















# Reading data from 1st stock



# Reading data from 2nd stock



# Reading data from 3rd stock



# Combine all stocks in a single DataFrame



# Reset Date index



# Reorganize portfolio data by having a column per symbol



# Calculate daily returns

# Drop NAs

# Display sample data






# Set weights
weights = [1/3, 1/3, 1/3]

# Calculate portfolio return

# Display sample data






# Join your returns DataFrame to the original returns DataFrame



# Only compare dates where return data exists for all the stocks (drop NaNs)









# Calculate the annualized `std`






# Calculate rolling standard deviation

# Plot rolling standard deviation






# Calculate and plot the correlation






# Calculate and plot Beta






# Calculate Annualized Sharpe Ratios



# Visualize the sharpe ratios as a bar plot







